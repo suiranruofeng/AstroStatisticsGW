{
 "cells": [
  {
   "cell_type": "code",
   "execution_count": 16,
   "id": "65534e33-f3c2-44fb-bef5-3cea0a93e9a4",
   "metadata": {
    "tags": []
   },
   "outputs": [],
   "source": [
    "from astropy.io import fits # 加载科学包\n",
    "import pandas as pd\n",
    "import numpy as np\n",
    "import scipy as sp\n",
    "import matplotlib.pyplot as plt\n",
    "import matplotlib"
   ]
  },
  {
   "cell_type": "code",
   "execution_count": 36,
   "id": "777e2092-77bc-4b3b-a457-3837a255cf37",
   "metadata": {
    "tags": []
   },
   "outputs": [
    {
     "name": "stdout",
     "output_type": "stream",
     "text": [
      "Filename: frame-u-006366-4-0132.fits\n",
      "No.    Name      Ver    Type      Cards   Dimensions   Format\n",
      "  0  PRIMARY       1 PrimaryHDU      96   (2048, 1489)   float32   \n",
      "  1                1 ImageHDU         6   (2048,)   float32   \n",
      "  2                1 BinTableHDU     27   1R x 3C   [49152E, 2048E, 1489E]   \n",
      "  3                1 BinTableHDU     79   1R x 31C   [J, 3A, J, A, D, D, 2J, J, D, D, D, D, D, D, D, D, D, D, D, D, D, D, D, D, D, D, D, D, D, E, E]   \n",
      "SIMPLE  =                    T /                                                BITPIX  =                  -32 / 32 bit floating point                          NAXIS   =                    2                                                  NAXIS1  =                 2048                                                  NAXIS2  =                 1489                                                  EXTEND  =                    T /Extensions may be present                       BZERO   =              0.00000 /Set by MRD_SCALE                                BSCALE  =              1.00000 /Set by MRD_SCALE                                TAI     =        4665266663.63 / 1st row Number of seconds since Nov 17 1858    RA      =            349.49643 / 1st row RA of telescope boresight (deg)        DEC     =            18.559682 / 1st row Dec of telescope boresight (degrees)   SPA     =             152.988  / 1st row Cam col position angle wrt N (deg)     IPA     =             214.731  / 1st row Inst rotator position angle (deg)      IPARATE =             -0.0030  / 1st row Inst rotator anglr velocity (deg/sec)  AZ      =            83.459186 / 1st row Azimuth (encoder) of tele (0=N?) (deg) ALT     =            45.357316 / 1st row Altitude (encoder) of tele (degrees)   FOCUS   =           -142.60000 / 1st row - Focus piston (microns?)              DATE-OBS= '2006-09-18'         / 1st row - TAI date                             TAIHMS  = '03:24:23.63'        / 1st row TAI time HH:MM:SS.SS                   COMMENT  TAI,RA,DEC,SPA,IPA,IPARATE,AZ,ALT,FOCUS at reading of col 0, row 0     ORIGIN  = 'SDSS    '                                                            TELESCOP= '2.5m    '                                                            TIMESYS = 'TAI     '                                                            RUN     =                 6366 / Run number                                     FRAME   =                  136 / Frame sequence number within the run           CCDLOC  =                   34 / Survey location of CCD (e.g., rowCol)          STRIPE  =                 1188 / Stripe index number (23 <--> eta=0)            STRIP   = 'S       '           / Strip in the stripe being tracked.             FLAVOR  = 'science '           / Flavor of this run                             OBSERVER= 'long    '           / Observer                                       SYS_SCN = 'mean    '           / System of the scan great circle (e.g., mean)   EQNX_SCN=           2000.00    / Equinox of the scan great circle. (years)      NODE    =           178.71285  / RA of the great circle's ascending node (deg)  INCL    =           64.49756   / Great circle's inclination wrt cel. eq. (deg)  XBORE   =           22.74      / Boresight x offset from the array center (mm)  YBORE   =           0.00       / Boresight x offset from the array center (mm)  OBJECT  = '1188 S  '           / e.g., 'stripe 50.6 degrees, north strip'       EXPTIME = '53.907456'          / Exposure time (seconds)                        SYSTEM  = 'FK5     '           / System of the TCC coordinates (e.g., mean)     CCDMODE = 'DRIFT   '           / 'STARING' or 'DRIFT'                           C_OBS   =                26322 / CCD row clock rate (usec/row)                  COLBIN  =                    1 / Binning factor perpendicular to the columns    ROWBIN  =                    1 / Binning factor perpendicular to the rows       DAVERS  = 'v15_12_1'           / Version of DA software                         SCDMETHD= 'sqrtDynamic'        / scdMethod                                      SCDWIDTH=                 1280 / scdDisplayWidth                                SCDDECMF=                    1 / scdDecimateFactor                              SCDOFSET=                  410 / scdDisplayOffset                               SCDDYNTH=                  -21 / scdDynamicThresh                               SCDSTTHL=                   30 / scdStaticThreshL                               SCDSTTHR=                   30 / scdStaticThreshR                               SCDREDSZ=                  527 / scdReduceSize                                  SCDSKYL =                    0 / scdSkyLeft                                     SCDSKYR =                    0 / scdSkyRight                                    COMMENT  CCD-specific parameters                                                CAMROW  =                    3 / Row in the imaging camera                      BADLINES=                    0 / Number of bad lines in frame                   EQUINOX =              2000.00 /                                                SOFTBIAS=                 1000 / software \"bias\" added to all DN                BUNIT   = 'nanomaggy'          / 1 nanomaggy = 3.631e-6 Jy                      FILTER  = 'u       '           / filter used                                    CAMCOL  =                    4 / column in the imaging camera                   VERSION = 'v5_6_3  '                                                            DERV_VER= 'NOCVS:v8_23'                                                         ASTR_VER= 'NOCVS:v5_24'                                                         ASTRO_ID= '2009-06-15T16:24:46 30960'                                           BIAS_ID = 'PS      '                                                            FRAME_ID= '2009-09-19T11:18:03 25130'                                           KO_VER  = 'devel   '                                                            PS_ID   = '2009-06-14T11:51:46 22040 camCol 4'                                  ATVSN   = 'NOCVS:v5_24'        / ASTROTOOLS version tag                         RADECSYS= 'ICRS    '           / International Celestial Ref. System            CTYPE1  = 'RA---TAN'           /Coordinate type                                 CTYPE2  = 'DEC--TAN'           /Coordinate type                                 CUNIT1  = 'deg     '           /Units                                           CUNIT2  = 'deg     '           /Units                                           CRPIX1  =        1025.00000000 /X of reference pixel                            CRPIX2  =        745.000000000 /Y of reference pixel                            CRVAL1  =        349.579385792 /RA of reference pixel (deg)                     CRVAL2  =        18.6329119708 /Dec of reference pixel (deg)                    CD1_1   =    9.81128065790E-05 /RA deg per column pixel                         CD1_2   =    4.99108771991E-05 /RA deg per row pixel                            CD2_1   =    4.99061240635E-05 /Dec deg per column pixel                        CD2_2   =   -9.80289636489E-05 /Dec deg per row pixel                           HISTORY GSSSPUTAST: Sep 19 11:18:07 2009                                        COMMENT  Calibration parameters                                                 COMMENT  Floats truncated at 10 binary digits with FLOATCOMPRESS                NMGY    =            0.0121332 / Calibration factor [nMgy per count]            NMGYIVAR=             0.114409 / Calibration factor inverse variance            VERSIDL = '7.0     '           / Version of IDL                                 VERSUTIL= 'v5_5_5  '           / Version of idlutils                            VERSPOP = 'v1_11_1 '           / Version of photoop product                     PCALIB  = '/clusterfs/riemann/raid006/bosswork/groups/boss/calib/2009-06-14/cal'PSKY    = '/clusterfs/riemann/raid006/bosswork/groups/boss/photo/sky' / Value ofRERUN   = '301     '           / rerun                                          HISTORY SDSS_FRAME_ASTROM: Astrometry fixed for dr9 Mon Jun 25 13:44:47 2012    END                                                                                                                                                                                                                                                                                                                                                                                                                                                                                                                                                                                                                                                                                                                                                                                                                                                                                                                                                                                             \n",
      "[[ 0.00585175  0.11535645  0.05450439 ... -0.11682129  0.11694336\n",
      "  -0.05535889]\n",
      " [-0.03063965  0.03018188  0.05450439 ... -0.05535889 -0.0307312\n",
      "  -0.05535889]\n",
      " [-0.04278564  0.03018188  0.03018188 ... -0.00610352  0.03082275\n",
      "  -0.0184021 ]\n",
      " ...\n",
      " [ 0.00427246  0.06506348  0.05291748 ...  0.00457764 -0.00772858\n",
      "  -0.08154297]\n",
      " [ 0.01644897  0.00427246  0.06506348 ...  0.07836914  0.10302734\n",
      "   0.05383301]\n",
      " [-0.04437256  0.01644897 -0.06872559 ... -0.00773621  0.15234375\n",
      "  -0.00773621]]\n"
     ]
    },
    {
     "data": {
      "text/plain": [
       "SIMPLE  =                    T /                                                \n",
       "BITPIX  =                  -32 / 32 bit floating point                          \n",
       "NAXIS   =                    2                                                  \n",
       "NAXIS1  =                 2048                                                  \n",
       "NAXIS2  =                 1489                                                  \n",
       "EXTEND  =                    T /Extensions may be present                       \n",
       "BZERO   =              0.00000 /Set by MRD_SCALE                                \n",
       "BSCALE  =              1.00000 /Set by MRD_SCALE                                \n",
       "TAI     =        4665266663.63 / 1st row Number of seconds since Nov 17 1858    \n",
       "RA      =            349.49643 / 1st row RA of telescope boresight (deg)        \n",
       "DEC     =            18.559682 / 1st row Dec of telescope boresight (degrees)   \n",
       "SPA     =             152.988  / 1st row Cam col position angle wrt N (deg)     \n",
       "IPA     =             214.731  / 1st row Inst rotator position angle (deg)      \n",
       "IPARATE =             -0.0030  / 1st row Inst rotator anglr velocity (deg/sec)  \n",
       "AZ      =            83.459186 / 1st row Azimuth (encoder) of tele (0=N?) (deg) \n",
       "ALT     =            45.357316 / 1st row Altitude (encoder) of tele (degrees)   \n",
       "FOCUS   =           -142.60000 / 1st row - Focus piston (microns?)              \n",
       "DATE-OBS= '2006-09-18'         / 1st row - TAI date                             \n",
       "TAIHMS  = '03:24:23.63'        / 1st row TAI time HH:MM:SS.SS                   \n",
       "COMMENT  TAI,RA,DEC,SPA,IPA,IPARATE,AZ,ALT,FOCUS at reading of col 0, row 0     \n",
       "ORIGIN  = 'SDSS    '                                                            \n",
       "TELESCOP= '2.5m    '                                                            \n",
       "TIMESYS = 'TAI     '                                                            \n",
       "RUN     =                 6366 / Run number                                     \n",
       "FRAME   =                  136 / Frame sequence number within the run           \n",
       "CCDLOC  =                   34 / Survey location of CCD (e.g., rowCol)          \n",
       "STRIPE  =                 1188 / Stripe index number (23 <--> eta=0)            \n",
       "STRIP   = 'S       '           / Strip in the stripe being tracked.             \n",
       "FLAVOR  = 'science '           / Flavor of this run                             \n",
       "OBSERVER= 'long    '           / Observer                                       \n",
       "SYS_SCN = 'mean    '           / System of the scan great circle (e.g., mean)   \n",
       "EQNX_SCN=           2000.00    / Equinox of the scan great circle. (years)      \n",
       "NODE    =           178.71285  / RA of the great circle's ascending node (deg)  \n",
       "INCL    =           64.49756   / Great circle's inclination wrt cel. eq. (deg)  \n",
       "XBORE   =           22.74      / Boresight x offset from the array center (mm)  \n",
       "YBORE   =           0.00       / Boresight x offset from the array center (mm)  \n",
       "OBJECT  = '1188 S  '           / e.g., 'stripe 50.6 degrees, north strip'       \n",
       "EXPTIME = '53.907456'          / Exposure time (seconds)                        \n",
       "SYSTEM  = 'FK5     '           / System of the TCC coordinates (e.g., mean)     \n",
       "CCDMODE = 'DRIFT   '           / 'STARING' or 'DRIFT'                           \n",
       "C_OBS   =                26322 / CCD row clock rate (usec/row)                  \n",
       "COLBIN  =                    1 / Binning factor perpendicular to the columns    \n",
       "ROWBIN  =                    1 / Binning factor perpendicular to the rows       \n",
       "DAVERS  = 'v15_12_1'           / Version of DA software                         \n",
       "SCDMETHD= 'sqrtDynamic'        / scdMethod                                      \n",
       "SCDWIDTH=                 1280 / scdDisplayWidth                                \n",
       "SCDDECMF=                    1 / scdDecimateFactor                              \n",
       "SCDOFSET=                  410 / scdDisplayOffset                               \n",
       "SCDDYNTH=                  -21 / scdDynamicThresh                               \n",
       "SCDSTTHL=                   30 / scdStaticThreshL                               \n",
       "SCDSTTHR=                   30 / scdStaticThreshR                               \n",
       "SCDREDSZ=                  527 / scdReduceSize                                  \n",
       "SCDSKYL =                    0 / scdSkyLeft                                     \n",
       "SCDSKYR =                    0 / scdSkyRight                                    \n",
       "COMMENT  CCD-specific parameters                                                \n",
       "CAMROW  =                    3 / Row in the imaging camera                      \n",
       "BADLINES=                    0 / Number of bad lines in frame                   \n",
       "EQUINOX =              2000.00 /                                                \n",
       "SOFTBIAS=                 1000 / software \"bias\" added to all DN                \n",
       "BUNIT   = 'nanomaggy'          / 1 nanomaggy = 3.631e-6 Jy                      \n",
       "FILTER  = 'u       '           / filter used                                    \n",
       "CAMCOL  =                    4 / column in the imaging camera                   \n",
       "VERSION = 'v5_6_3  '                                                            \n",
       "DERV_VER= 'NOCVS:v8_23'                                                         \n",
       "ASTR_VER= 'NOCVS:v5_24'                                                         \n",
       "ASTRO_ID= '2009-06-15T16:24:46 30960'                                           \n",
       "BIAS_ID = 'PS      '                                                            \n",
       "FRAME_ID= '2009-09-19T11:18:03 25130'                                           \n",
       "KO_VER  = 'devel   '                                                            \n",
       "PS_ID   = '2009-06-14T11:51:46 22040 camCol 4'                                  \n",
       "ATVSN   = 'NOCVS:v5_24'        / ASTROTOOLS version tag                         \n",
       "RADECSYS= 'ICRS    '           / International Celestial Ref. System            \n",
       "CTYPE1  = 'RA---TAN'           /Coordinate type                                 \n",
       "CTYPE2  = 'DEC--TAN'           /Coordinate type                                 \n",
       "CUNIT1  = 'deg     '           /Units                                           \n",
       "CUNIT2  = 'deg     '           /Units                                           \n",
       "CRPIX1  =        1025.00000000 /X of reference pixel                            \n",
       "CRPIX2  =        745.000000000 /Y of reference pixel                            \n",
       "CRVAL1  =        349.579385792 /RA of reference pixel (deg)                     \n",
       "CRVAL2  =        18.6329119708 /Dec of reference pixel (deg)                    \n",
       "CD1_1   =    9.81128065790E-05 /RA deg per column pixel                         \n",
       "CD1_2   =    4.99108771991E-05 /RA deg per row pixel                            \n",
       "CD2_1   =    4.99061240635E-05 /Dec deg per column pixel                        \n",
       "CD2_2   =   -9.80289636489E-05 /Dec deg per row pixel                           \n",
       "HISTORY GSSSPUTAST: Sep 19 11:18:07 2009                                        \n",
       "COMMENT  Calibration parameters                                                 \n",
       "COMMENT  Floats truncated at 10 binary digits with FLOATCOMPRESS                \n",
       "NMGY    =            0.0121332 / Calibration factor [nMgy per count]            \n",
       "NMGYIVAR=             0.114409 / Calibration factor inverse variance            \n",
       "VERSIDL = '7.0     '           / Version of IDL                                 \n",
       "VERSUTIL= 'v5_5_5  '           / Version of idlutils                            \n",
       "VERSPOP = 'v1_11_1 '           / Version of photoop product                     \n",
       "PCALIB  = '/clusterfs/riemann/raid006/bosswork/groups/boss/calib/2009-06-14/cal'\n",
       "PSKY    = '/clusterfs/riemann/raid006/bosswork/groups/boss/photo/sky' / Value of\n",
       "RERUN   = '301     '           / rerun                                          \n",
       "HISTORY SDSS_FRAME_ASTROM: Astrometry fixed for dr9 Mon Jun 25 13:44:47 2012    "
      ]
     },
     "execution_count": 36,
     "metadata": {},
     "output_type": "execute_result"
    },
    {
     "data": {
      "text/plain": [
       "<Figure size 640x480 with 0 Axes>"
      ]
     },
     "metadata": {},
     "output_type": "display_data"
    }
   ],
   "source": [
    "matplotlib.rc('xtick',labelsize=12)\n",
    "matplotlib.rc('ytick',labelsize=12)\n",
    "plt.figure()\n",
    "hdu=fits.open( 'frame-u-006366-4-0132.fits' ) # 打开文件\n",
    "hdu.info() #查看文件信息\n",
    "print(hdu[0].header) #查看头文件信息 ？写想看的单元\n",
    "hdu[0].data[1] #查看i行j列数据\n",
    "#hdu[1].data.field(‘time’) #查看time 的数据\n",
    "#hdu[1].data.names #查看数据名字\n",
    "#hdu['LIGHTCURVE'].data['TIME'] #直接访问数据\n",
    "print(hdu[0].data)\n",
    "x = np.arange(1, 2046, 1)\n",
    "y = np.arange(1, 1480, 1)\n",
    "\n",
    "#plt.plot(y,x, hdu[0].data[y][x])\n",
    "\n",
    "hdu[0].header #查看头文件信息 ？写想看的单元\n",
    "\n"
   ]
  },
  {
   "cell_type": "code",
   "execution_count": null,
   "id": "ef5be341-cb4b-4872-8e6f-dfac362e6436",
   "metadata": {},
   "outputs": [],
   "source": []
  }
 ],
 "metadata": {
  "kernelspec": {
   "display_name": "Python 3 (ipykernel)",
   "language": "python",
   "name": "python3"
  },
  "language_info": {
   "codemirror_mode": {
    "name": "ipython",
    "version": 3
   },
   "file_extension": ".py",
   "mimetype": "text/x-python",
   "name": "python",
   "nbconvert_exporter": "python",
   "pygments_lexer": "ipython3",
   "version": "3.11.5"
  }
 },
 "nbformat": 4,
 "nbformat_minor": 5
}
