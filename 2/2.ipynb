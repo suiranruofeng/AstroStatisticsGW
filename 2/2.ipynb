{
 "cells": [
  {
   "cell_type": "code",
   "execution_count": 6,
   "metadata": {},
   "outputs": [
    {
     "name": "stdout",
     "output_type": "stream",
     "text": [
      "Filename: outerdisk_sample.fits\n",
      "No.    Name      Ver    Type      Cards   Dimensions   Format\n",
      "  0  PRIMARY       1 PrimaryHDU      16   (10006,)   uint8   \n",
      "  1  Joined        1 BinTableHDU     75   23983R x 18C   [E, E, E, E, E, E, D, D, D, D, D, D, D, D, D, D, D, L]   \n",
      "XTENSION= 'BINTABLE'           / binary table extension                         BITPIX  =                    8 / 8-bit bytes                                    NAXIS   =                    2 / 2-dimensional table                            NAXIS1  =                  113 / width of table in bytes                        NAXIS2  =                23983 / number of rows in table                        PCOUNT  =                    0 / size of special data area                      GCOUNT  =                    1 / one data group                                 TFIELDS =                   18 / number of columns                              EXTNAME = 'Joined  '           / table name                                     TTYPE1  = 'teff    '           / label for column 1                             TFORM1  = 'E       '           / format for column 1                            TUNIT1  = 'K       '           / units for column 1                             TTYPE2  = 'teff_err'           / label for column 2                             TFORM2  = 'E       '           / format for column 2                            TUNIT2  = 'K       '           / units for column 2                             TTYPE3  = 'feh     '           / label for column 3                             TFORM3  = 'E       '           / format for column 3                            TTYPE4  = 'feh_err '           / label for column 4                             TFORM4  = 'E       '           / format for column 4                            TTYPE5  = 'rv      '           / label for column 5                             TFORM5  = 'E       '           / format for column 5                            TUNIT5  = 'km/s    '           / units for column 5                             TTYPE6  = 'rv_err  '           / label for column 6                             TFORM6  = 'E       '           / format for column 6                            TUNIT6  = 'km/s    '           / units for column 6                             TTYPE7  = 'glon    '           / label for column 7                             TFORM7  = 'D       '           / format for column 7                            TUNIT7  = 'degrees '           / units for column 7                             TCOMM7  = 'IAU 1958 Galactic Longitude'                                         TTYPE8  = 'glat    '           / label for column 8                             TFORM8  = 'D       '           / format for column 8                            TUNIT8  = 'degrees '           / units for column 8                             TCOMM8  = 'IAU 1958 Galactic Latitude'                                          TTYPE9  = 'distK50_RJCE'       / label for column 9                             TFORM9  = 'D       '           / format for column 9                            TUNIT9  = 'parsec  '           / units for column 9                             TCOMM9  = '(pow(10, ((Kmag_2mass-AK_RJCE-M_K50+5)/5)))'                         TTYPE10 = 'distK15_RJCE'       / label for column 10                            TFORM10 = 'D       '           / format for column 10                           TUNIT10 = 'parsec  '           / units for column 10                            TCOMM10 = '(pow(10, ((Kmag_2mass-AK_RJCE-M_K15+5)/5)))'                         TTYPE11 = 'distK85_RJCE'       / label for column 11                            TFORM11 = 'D       '           / format for column 11                           TUNIT11 = 'parsec  '           / units for column 11                            TCOMM11 = '(pow(10, ((Kmag_2mass-AK_RJCE-M_K85+5)/5)))'                         TTYPE12 = 'X       '           / label for column 12                            TFORM12 = 'D       '           / format for column 12                           TUNIT12 = 'kpc     '           / units for column 12                            TCOMM12 = '(8-0.001*distK50_RJCE*cos(glon*3.14159/180)*cos(glat*3.14159/180))'  TTYPE13 = 'Y       '           / label for column 13                            TFORM13 = 'D       '           / format for column 13                           TUNIT13 = 'kpc     '           / units for column 13                            TCOMM13 = '(0.001*distK50_RJCE*sin(glon*3.14159/180)*cos(glat*3.14159/180))'    TTYPE14 = 'Z       '           / label for column 14                            TFORM14 = 'D       '           / format for column 14                           TUNIT14 = 'kpc     '           / units for column 14                            TCOMM14 = '(0.027+0.001*distK50_RJCE*sin(glat*3.14159/180))'                    TTYPE15 = 'Rgc     '           / label for column 15                            TFORM15 = 'D       '           / format for column 15                           TUNIT15 = 'kpc     '           / units for column 15                            TCOMM15 = '(sqrt(X*X+Y*Y))'                                                     TTYPE16 = 'r_gc    '           / label for column 16                            TFORM16 = 'D       '           / format for column 16                           TUNIT16 = 'kpc     '           / units for column 16                            TCOMM16 = '(sqrt(Rgc*Rgc+Z*Z))'                                                 TTYPE17 = 'PHI     '           / label for column 17                            TFORM17 = 'D       '           / format for column 17                           TUNIT17 = 'radian  '           / units for column 17                            TCOMM17 = '(atan2(Y,X))'                                                        TTYPE18 = 'Kgiant_noRC_noDup'  / label for column 18                            TFORM18 = 'L       '           / format for column 18                           TCOMM18 = '(_6)    '                                                            DATE-HDU= '2020-04-25T05:16:51' / Date of HDU creation (UTC)                    STILVERS= '3.3-3   '           / Version of STIL software                       STILCLAS= 'uk.ac.starlink.votable.FitsPlusTableWriter' / STIL Author class      END                                                                                                                                                                                                                                                                                                                                                                                                                                                                                                                                                                                                                                                                                                                                                                                                                                                                                                                                                                                                                                                                                                                                                                                                                                                                                                                                                                                                                                                                                                                                                                                                                                                                                                                                                                                                                                                                                                                                                                                                                                                                                                                                                                                                                                                                                                                                                                                                                                                                                                                                                                                                                                                                                                                                             \n",
      "6.1725836\n"
     ]
    }
   ],
   "source": [
    "from astropy.io import fits\n",
    "import math\n",
    "import pandas as pd\n",
    "import numpy as np\n",
    "import scipy as sp\n",
    "import matplotlib.pyplot as plt\n",
    "import matplotlib\n",
    "import random\n",
    "import scipy.stats as stats\n",
    "import scipy.special as special\n",
    "import emcee\n",
    "import corner\n",
    "import math\n",
    "\n",
    "\n",
    "hdu=fits.open( 'outerdisk_sample.fits' )\n",
    "hdu.info()\n",
    "print(hdu[1].header)\n",
    "r=hdu[1].data.field('rgc')\n",
    "rv=hdu[1].data.field('rv')\n",
    "rv_err=hdu[1].data.field('rv_err')\n",
    "nansr = np.isnan(r)\n",
    "rv = np.delete(rv, np.where(nansr))\n",
    "rv_err= np.delete(rv_err, np.where(nansr))\n",
    "r= np.delete(r, np.where(nansr))\n",
    "m=np.mean(rv)\n",
    "print(m)\n",
    "\n",
    "def wudibaolongzhansheng(x,rv,rv_err,r):\n",
    "    a=x[0]\n",
    "    hr=x[1]\n",
    "    dr = abs((r - 8.34) * 0.2)\n",
    "    r0=stats.norm.rvs(loc=r, scale=dr, size=len(r))\n",
    "    sig2=a*np.exp(-r0/hr)\n",
    "    sig2z=abs(sig2+(rv_err**2))\n",
    "    L = np.sum(-((rv-6.17)**2)/(2*sig2z)-0.5*np.log(sig2z))\n",
    "    return L\n",
    "\n"
   ]
  },
  {
   "cell_type": "code",
   "execution_count": 5,
   "metadata": {},
   "outputs": [
    {
     "name": "stdout",
     "output_type": "stream",
     "text": [
      "emcee: Exception while calling your likelihood function:\n",
      "  params: [1577.56100202   15.9280537 ]\n",
      "  args: [array([15.41, 12.  , 17.71, ..., 15.1 , 14.99, 11.84], dtype='>f4')]\n",
      "  kwargs: {}\n",
      "  exception:\n"
     ]
    },
    {
     "name": "stderr",
     "output_type": "stream",
     "text": [
      "Traceback (most recent call last):\n",
      "  File \"/home/sralus/.conda/envs/astrostatistics/lib/python3.11/site-packages/emcee/ensemble.py\", line 624, in __call__\n",
      "    return self.f(x, *self.args, **self.kwargs)\n",
      "           ^^^^^^^^^^^^^^^^^^^^^^^^^^^^^^^^^^^^\n",
      "TypeError: wudibaolongzhansheng() missing 2 required positional arguments: 'rv_err' and 'r'\n"
     ]
    },
    {
     "ename": "TypeError",
     "evalue": "wudibaolongzhansheng() missing 2 required positional arguments: 'rv_err' and 'r'",
     "output_type": "error",
     "traceback": [
      "\u001b[0;31m---------------------------------------------------------------------------\u001b[0m",
      "\u001b[0;31mTypeError\u001b[0m                                 Traceback (most recent call last)",
      "\u001b[1;32m/home/sralus/Documents/astrostatistics/AstrostatisticsGroupwork/2/2.ipynb Cell 2\u001b[0m line \u001b[0;36m9\n\u001b[1;32m      <a href='vscode-notebook-cell:/home/sralus/Documents/astrostatistics/AstrostatisticsGroupwork/2/2.ipynb#W1sZmlsZQ%3D%3D?line=5'>6</a>\u001b[0m p0[:,\u001b[39m1\u001b[39m] \u001b[39m=\u001b[39m np\u001b[39m.\u001b[39mrandom\u001b[39m.\u001b[39mrand(nwalker)\u001b[39m+\u001b[39m\u001b[39m15\u001b[39m\n\u001b[1;32m      <a href='vscode-notebook-cell:/home/sralus/Documents/astrostatistics/AstrostatisticsGroupwork/2/2.ipynb#W1sZmlsZQ%3D%3D?line=7'>8</a>\u001b[0m sampler \u001b[39m=\u001b[39m emcee\u001b[39m.\u001b[39mEnsembleSampler(nwalker, ndim, wudibaolongzhansheng,args\u001b[39m=\u001b[39m[rv_err])\n\u001b[0;32m----> <a href='vscode-notebook-cell:/home/sralus/Documents/astrostatistics/AstrostatisticsGroupwork/2/2.ipynb#W1sZmlsZQ%3D%3D?line=8'>9</a>\u001b[0m pos \u001b[39m=\u001b[39m sampler\u001b[39m.\u001b[39mrun_mcmc(p0,\u001b[39m100\u001b[39m)\n\u001b[1;32m     <a href='vscode-notebook-cell:/home/sralus/Documents/astrostatistics/AstrostatisticsGroupwork/2/2.ipynb#W1sZmlsZQ%3D%3D?line=9'>10</a>\u001b[0m sampler\u001b[39m.\u001b[39mreset()\n\u001b[1;32m     <a href='vscode-notebook-cell:/home/sralus/Documents/astrostatistics/AstrostatisticsGroupwork/2/2.ipynb#W1sZmlsZQ%3D%3D?line=10'>11</a>\u001b[0m sampler\u001b[39m.\u001b[39mrun_mcmc(pos,\u001b[39m1000\u001b[39m)\n",
      "File \u001b[0;32m~/.conda/envs/astrostatistics/lib/python3.11/site-packages/emcee/ensemble.py:443\u001b[0m, in \u001b[0;36mEnsembleSampler.run_mcmc\u001b[0;34m(self, initial_state, nsteps, **kwargs)\u001b[0m\n\u001b[1;32m    440\u001b[0m     initial_state \u001b[39m=\u001b[39m \u001b[39mself\u001b[39m\u001b[39m.\u001b[39m_previous_state\n\u001b[1;32m    442\u001b[0m results \u001b[39m=\u001b[39m \u001b[39mNone\u001b[39;00m\n\u001b[0;32m--> 443\u001b[0m \u001b[39mfor\u001b[39;00m results \u001b[39min\u001b[39;00m \u001b[39mself\u001b[39m\u001b[39m.\u001b[39msample(initial_state, iterations\u001b[39m=\u001b[39mnsteps, \u001b[39m*\u001b[39m\u001b[39m*\u001b[39mkwargs):\n\u001b[1;32m    444\u001b[0m     \u001b[39mpass\u001b[39;00m\n\u001b[1;32m    446\u001b[0m \u001b[39m# Store so that the ``initial_state=None`` case will work\u001b[39;00m\n",
      "File \u001b[0;32m~/.conda/envs/astrostatistics/lib/python3.11/site-packages/emcee/ensemble.py:344\u001b[0m, in \u001b[0;36mEnsembleSampler.sample\u001b[0;34m(self, initial_state, log_prob0, rstate0, blobs0, iterations, tune, skip_initial_state_check, thin_by, thin, store, progress, progress_kwargs)\u001b[0m\n\u001b[1;32m    342\u001b[0m     state\u001b[39m.\u001b[39mblobs \u001b[39m=\u001b[39m blobs0\n\u001b[1;32m    343\u001b[0m \u001b[39mif\u001b[39;00m state\u001b[39m.\u001b[39mlog_prob \u001b[39mis\u001b[39;00m \u001b[39mNone\u001b[39;00m:\n\u001b[0;32m--> 344\u001b[0m     state\u001b[39m.\u001b[39mlog_prob, state\u001b[39m.\u001b[39mblobs \u001b[39m=\u001b[39m \u001b[39mself\u001b[39m\u001b[39m.\u001b[39mcompute_log_prob(state\u001b[39m.\u001b[39mcoords)\n\u001b[1;32m    345\u001b[0m \u001b[39mif\u001b[39;00m np\u001b[39m.\u001b[39mshape(state\u001b[39m.\u001b[39mlog_prob) \u001b[39m!=\u001b[39m (\u001b[39mself\u001b[39m\u001b[39m.\u001b[39mnwalkers,):\n\u001b[1;32m    346\u001b[0m     \u001b[39mraise\u001b[39;00m \u001b[39mValueError\u001b[39;00m(\u001b[39m\"\u001b[39m\u001b[39mincompatible input dimensions\u001b[39m\u001b[39m\"\u001b[39m)\n",
      "File \u001b[0;32m~/.conda/envs/astrostatistics/lib/python3.11/site-packages/emcee/ensemble.py:489\u001b[0m, in \u001b[0;36mEnsembleSampler.compute_log_prob\u001b[0;34m(self, coords)\u001b[0m\n\u001b[1;32m    487\u001b[0m     \u001b[39melse\u001b[39;00m:\n\u001b[1;32m    488\u001b[0m         map_func \u001b[39m=\u001b[39m \u001b[39mmap\u001b[39m\n\u001b[0;32m--> 489\u001b[0m     results \u001b[39m=\u001b[39m \u001b[39mlist\u001b[39m(map_func(\u001b[39mself\u001b[39m\u001b[39m.\u001b[39mlog_prob_fn, p))\n\u001b[1;32m    491\u001b[0m \u001b[39mtry\u001b[39;00m:\n\u001b[1;32m    492\u001b[0m     log_prob \u001b[39m=\u001b[39m np\u001b[39m.\u001b[39marray([\u001b[39mfloat\u001b[39m(l[\u001b[39m0\u001b[39m]) \u001b[39mfor\u001b[39;00m l \u001b[39min\u001b[39;00m results])\n",
      "File \u001b[0;32m~/.conda/envs/astrostatistics/lib/python3.11/site-packages/emcee/ensemble.py:624\u001b[0m, in \u001b[0;36m_FunctionWrapper.__call__\u001b[0;34m(self, x)\u001b[0m\n\u001b[1;32m    622\u001b[0m \u001b[39mdef\u001b[39;00m \u001b[39m__call__\u001b[39m(\u001b[39mself\u001b[39m, x):\n\u001b[1;32m    623\u001b[0m     \u001b[39mtry\u001b[39;00m:\n\u001b[0;32m--> 624\u001b[0m         \u001b[39mreturn\u001b[39;00m \u001b[39mself\u001b[39m\u001b[39m.\u001b[39mf(x, \u001b[39m*\u001b[39m\u001b[39mself\u001b[39m\u001b[39m.\u001b[39margs, \u001b[39m*\u001b[39m\u001b[39m*\u001b[39m\u001b[39mself\u001b[39m\u001b[39m.\u001b[39mkwargs)\n\u001b[1;32m    625\u001b[0m     \u001b[39mexcept\u001b[39;00m:  \u001b[39m# pragma: no cover\u001b[39;00m\n\u001b[1;32m    626\u001b[0m         \u001b[39mimport\u001b[39;00m \u001b[39mtraceback\u001b[39;00m\n",
      "\u001b[0;31mTypeError\u001b[0m: wudibaolongzhansheng() missing 2 required positional arguments: 'rv_err' and 'r'"
     ]
    }
   ],
   "source": [
    "nwalker = 30\n",
    "ndim = 2\n",
    "p0 = np.zeros((nwalker,ndim))\n",
    "pos = np.random.randn(nwalker, ndim)\n",
    "p0[:,0] = np.random.rand(nwalker)*100+1500\n",
    "p0[:,1] = np.random.rand(nwalker)+15\n",
    "\n",
    "sampler = emcee.EnsembleSampler(nwalker, ndim, wudibaolongzhansheng,args=[rv_err,r])\n",
    "pos = sampler.run_mcmc(p0,100)\n",
    "sampler.reset()\n",
    "sampler.run_mcmc(pos,1000)\n",
    "samples = sampler.chain[:, :, :].reshape((-1, ndim))\n",
    "fig = corner.corner(samples,\\\n",
    "    labels=[r'$d$',r'$d_0$'],\\\n",
    "        quantiles=[0.16, 0.5, 0.84],\\\n",
    "        show_titles=True, \\\n",
    "        title_kwargs={\"fontsize\": 12})"
   ]
  }
 ],
 "metadata": {
  "kernelspec": {
   "display_name": "astrostatistics",
   "language": "python",
   "name": "python3"
  },
  "language_info": {
   "codemirror_mode": {
    "name": "ipython",
    "version": 3
   },
   "file_extension": ".py",
   "mimetype": "text/x-python",
   "name": "python",
   "nbconvert_exporter": "python",
   "pygments_lexer": "ipython3",
   "version": "3.11.5"
  }
 },
 "nbformat": 4,
 "nbformat_minor": 2
}
